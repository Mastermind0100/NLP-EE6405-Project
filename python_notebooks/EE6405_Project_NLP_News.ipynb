{
  "nbformat": 4,
  "nbformat_minor": 0,
  "metadata": {
    "colab": {
      "provenance": [],
      "gpuType": "T4"
    },
    "kernelspec": {
      "name": "python3",
      "display_name": "Python 3"
    },
    "language_info": {
      "name": "python"
    },
    "accelerator": "GPU"
  },
  "cells": [
    {
      "cell_type": "markdown",
      "source": [
        "# Training for News Dataset"
      ],
      "metadata": {
        "id": "rXnSFBJRN_7u"
      }
    },
    {
      "cell_type": "code",
      "source": [
        "from google.colab import drive\n",
        "\n",
        "drive.mount('/content/gdrive')\n",
        "\n"
      ],
      "metadata": {
        "colab": {
          "base_uri": "https://localhost:8080/"
        },
        "id": "Vgn_fc8hrk8o",
        "outputId": "e82e487b-b3cc-4d68-cd26-8267ac19a7ec"
      },
      "execution_count": null,
      "outputs": [
        {
          "output_type": "stream",
          "name": "stdout",
          "text": [
            "Drive already mounted at /content/gdrive; to attempt to forcibly remount, call drive.mount(\"/content/gdrive\", force_remount=True).\n"
          ]
        }
      ]
    },
    {
      "cell_type": "code",
      "source": [
        "#Preprocessing function for dataframe, to be used later on\n",
        "import nltk\n",
        "from nltk.corpus import stopwords\n",
        "from nltk.tokenize import word_tokenize\n",
        "\n",
        "nltk.download('stopwords')\n",
        "nltk.download('punkt')\n",
        "\n",
        "def remove_stopwords(text):\n",
        "    stop_words = set(stopwords.words('english'))\n",
        "    stop_words.add('br')\n",
        "    word_tokens = word_tokenize(text)\n",
        "    filtered_text = [word for word in word_tokens if word.lower() not in stop_words]\n",
        "    return ' '.join(filtered_text)"
      ],
      "metadata": {
        "colab": {
          "base_uri": "https://localhost:8080/"
        },
        "id": "SFr1ea2FqYtY",
        "outputId": "44bf6ef3-acdf-4057-b3f2-8500ac05f964"
      },
      "execution_count": null,
      "outputs": [
        {
          "output_type": "stream",
          "name": "stderr",
          "text": [
            "[nltk_data] Downloading package stopwords to /root/nltk_data...\n",
            "[nltk_data]   Package stopwords is already up-to-date!\n",
            "[nltk_data] Downloading package punkt to /root/nltk_data...\n",
            "[nltk_data]   Package punkt is already up-to-date!\n"
          ]
        }
      ]
    },
    {
      "cell_type": "markdown",
      "source": [
        "## Before Start\n",
        "\n",
        "An initial data exploration was done to first gain some insights."
      ],
      "metadata": {
        "id": "TU_7aFidiYnf"
      }
    },
    {
      "cell_type": "code",
      "source": [
        "import pandas as pd\n",
        "train_data = pd.read_csv('/content/gdrive/MyDrive/NTU mods/EE6405/Project/news_fulltrain.csv', header=None)\n",
        "train_data.columns=['label','text']\n",
        "train_data.head()"
      ],
      "metadata": {
        "colab": {
          "base_uri": "https://localhost:8080/",
          "height": 206
        },
        "id": "u8Op3ZBJk4KK",
        "outputId": "3b03be5f-2c11-4c87-b412-e98e425f308c"
      },
      "execution_count": null,
      "outputs": [
        {
          "output_type": "execute_result",
          "data": {
            "text/plain": [
              "   label                                               text\n",
              "0      1  A little less than a decade ago, hockey fans w...\n",
              "1      1  The writers of the HBO series The Sopranos too...\n",
              "2      1  Despite claims from the TV news outlet to offe...\n",
              "3      1  After receiving 'subpar' service and experienc...\n",
              "4      1  After watching his beloved Seattle Mariners pr..."
            ],
            "text/html": [
              "\n",
              "  <div id=\"df-6b8ce214-27a2-40eb-98cf-13dd096c7eca\" class=\"colab-df-container\">\n",
              "    <div>\n",
              "<style scoped>\n",
              "    .dataframe tbody tr th:only-of-type {\n",
              "        vertical-align: middle;\n",
              "    }\n",
              "\n",
              "    .dataframe tbody tr th {\n",
              "        vertical-align: top;\n",
              "    }\n",
              "\n",
              "    .dataframe thead th {\n",
              "        text-align: right;\n",
              "    }\n",
              "</style>\n",
              "<table border=\"1\" class=\"dataframe\">\n",
              "  <thead>\n",
              "    <tr style=\"text-align: right;\">\n",
              "      <th></th>\n",
              "      <th>label</th>\n",
              "      <th>text</th>\n",
              "    </tr>\n",
              "  </thead>\n",
              "  <tbody>\n",
              "    <tr>\n",
              "      <th>0</th>\n",
              "      <td>1</td>\n",
              "      <td>A little less than a decade ago, hockey fans w...</td>\n",
              "    </tr>\n",
              "    <tr>\n",
              "      <th>1</th>\n",
              "      <td>1</td>\n",
              "      <td>The writers of the HBO series The Sopranos too...</td>\n",
              "    </tr>\n",
              "    <tr>\n",
              "      <th>2</th>\n",
              "      <td>1</td>\n",
              "      <td>Despite claims from the TV news outlet to offe...</td>\n",
              "    </tr>\n",
              "    <tr>\n",
              "      <th>3</th>\n",
              "      <td>1</td>\n",
              "      <td>After receiving 'subpar' service and experienc...</td>\n",
              "    </tr>\n",
              "    <tr>\n",
              "      <th>4</th>\n",
              "      <td>1</td>\n",
              "      <td>After watching his beloved Seattle Mariners pr...</td>\n",
              "    </tr>\n",
              "  </tbody>\n",
              "</table>\n",
              "</div>\n",
              "    <div class=\"colab-df-buttons\">\n",
              "\n",
              "  <div class=\"colab-df-container\">\n",
              "    <button class=\"colab-df-convert\" onclick=\"convertToInteractive('df-6b8ce214-27a2-40eb-98cf-13dd096c7eca')\"\n",
              "            title=\"Convert this dataframe to an interactive table.\"\n",
              "            style=\"display:none;\">\n",
              "\n",
              "  <svg xmlns=\"http://www.w3.org/2000/svg\" height=\"24px\" viewBox=\"0 -960 960 960\">\n",
              "    <path d=\"M120-120v-720h720v720H120Zm60-500h600v-160H180v160Zm220 220h160v-160H400v160Zm0 220h160v-160H400v160ZM180-400h160v-160H180v160Zm440 0h160v-160H620v160ZM180-180h160v-160H180v160Zm440 0h160v-160H620v160Z\"/>\n",
              "  </svg>\n",
              "    </button>\n",
              "\n",
              "  <style>\n",
              "    .colab-df-container {\n",
              "      display:flex;\n",
              "      gap: 12px;\n",
              "    }\n",
              "\n",
              "    .colab-df-convert {\n",
              "      background-color: #E8F0FE;\n",
              "      border: none;\n",
              "      border-radius: 50%;\n",
              "      cursor: pointer;\n",
              "      display: none;\n",
              "      fill: #1967D2;\n",
              "      height: 32px;\n",
              "      padding: 0 0 0 0;\n",
              "      width: 32px;\n",
              "    }\n",
              "\n",
              "    .colab-df-convert:hover {\n",
              "      background-color: #E2EBFA;\n",
              "      box-shadow: 0px 1px 2px rgba(60, 64, 67, 0.3), 0px 1px 3px 1px rgba(60, 64, 67, 0.15);\n",
              "      fill: #174EA6;\n",
              "    }\n",
              "\n",
              "    .colab-df-buttons div {\n",
              "      margin-bottom: 4px;\n",
              "    }\n",
              "\n",
              "    [theme=dark] .colab-df-convert {\n",
              "      background-color: #3B4455;\n",
              "      fill: #D2E3FC;\n",
              "    }\n",
              "\n",
              "    [theme=dark] .colab-df-convert:hover {\n",
              "      background-color: #434B5C;\n",
              "      box-shadow: 0px 1px 3px 1px rgba(0, 0, 0, 0.15);\n",
              "      filter: drop-shadow(0px 1px 2px rgba(0, 0, 0, 0.3));\n",
              "      fill: #FFFFFF;\n",
              "    }\n",
              "  </style>\n",
              "\n",
              "    <script>\n",
              "      const buttonEl =\n",
              "        document.querySelector('#df-6b8ce214-27a2-40eb-98cf-13dd096c7eca button.colab-df-convert');\n",
              "      buttonEl.style.display =\n",
              "        google.colab.kernel.accessAllowed ? 'block' : 'none';\n",
              "\n",
              "      async function convertToInteractive(key) {\n",
              "        const element = document.querySelector('#df-6b8ce214-27a2-40eb-98cf-13dd096c7eca');\n",
              "        const dataTable =\n",
              "          await google.colab.kernel.invokeFunction('convertToInteractive',\n",
              "                                                    [key], {});\n",
              "        if (!dataTable) return;\n",
              "\n",
              "        const docLinkHtml = 'Like what you see? Visit the ' +\n",
              "          '<a target=\"_blank\" href=https://colab.research.google.com/notebooks/data_table.ipynb>data table notebook</a>'\n",
              "          + ' to learn more about interactive tables.';\n",
              "        element.innerHTML = '';\n",
              "        dataTable['output_type'] = 'display_data';\n",
              "        await google.colab.output.renderOutput(dataTable, element);\n",
              "        const docLink = document.createElement('div');\n",
              "        docLink.innerHTML = docLinkHtml;\n",
              "        element.appendChild(docLink);\n",
              "      }\n",
              "    </script>\n",
              "  </div>\n",
              "\n",
              "\n",
              "<div id=\"df-259aca73-71c0-49b6-b6cb-f1b8a362ea1b\">\n",
              "  <button class=\"colab-df-quickchart\" onclick=\"quickchart('df-259aca73-71c0-49b6-b6cb-f1b8a362ea1b')\"\n",
              "            title=\"Suggest charts\"\n",
              "            style=\"display:none;\">\n",
              "\n",
              "<svg xmlns=\"http://www.w3.org/2000/svg\" height=\"24px\"viewBox=\"0 0 24 24\"\n",
              "     width=\"24px\">\n",
              "    <g>\n",
              "        <path d=\"M19 3H5c-1.1 0-2 .9-2 2v14c0 1.1.9 2 2 2h14c1.1 0 2-.9 2-2V5c0-1.1-.9-2-2-2zM9 17H7v-7h2v7zm4 0h-2V7h2v10zm4 0h-2v-4h2v4z\"/>\n",
              "    </g>\n",
              "</svg>\n",
              "  </button>\n",
              "\n",
              "<style>\n",
              "  .colab-df-quickchart {\n",
              "      --bg-color: #E8F0FE;\n",
              "      --fill-color: #1967D2;\n",
              "      --hover-bg-color: #E2EBFA;\n",
              "      --hover-fill-color: #174EA6;\n",
              "      --disabled-fill-color: #AAA;\n",
              "      --disabled-bg-color: #DDD;\n",
              "  }\n",
              "\n",
              "  [theme=dark] .colab-df-quickchart {\n",
              "      --bg-color: #3B4455;\n",
              "      --fill-color: #D2E3FC;\n",
              "      --hover-bg-color: #434B5C;\n",
              "      --hover-fill-color: #FFFFFF;\n",
              "      --disabled-bg-color: #3B4455;\n",
              "      --disabled-fill-color: #666;\n",
              "  }\n",
              "\n",
              "  .colab-df-quickchart {\n",
              "    background-color: var(--bg-color);\n",
              "    border: none;\n",
              "    border-radius: 50%;\n",
              "    cursor: pointer;\n",
              "    display: none;\n",
              "    fill: var(--fill-color);\n",
              "    height: 32px;\n",
              "    padding: 0;\n",
              "    width: 32px;\n",
              "  }\n",
              "\n",
              "  .colab-df-quickchart:hover {\n",
              "    background-color: var(--hover-bg-color);\n",
              "    box-shadow: 0 1px 2px rgba(60, 64, 67, 0.3), 0 1px 3px 1px rgba(60, 64, 67, 0.15);\n",
              "    fill: var(--button-hover-fill-color);\n",
              "  }\n",
              "\n",
              "  .colab-df-quickchart-complete:disabled,\n",
              "  .colab-df-quickchart-complete:disabled:hover {\n",
              "    background-color: var(--disabled-bg-color);\n",
              "    fill: var(--disabled-fill-color);\n",
              "    box-shadow: none;\n",
              "  }\n",
              "\n",
              "  .colab-df-spinner {\n",
              "    border: 2px solid var(--fill-color);\n",
              "    border-color: transparent;\n",
              "    border-bottom-color: var(--fill-color);\n",
              "    animation:\n",
              "      spin 1s steps(1) infinite;\n",
              "  }\n",
              "\n",
              "  @keyframes spin {\n",
              "    0% {\n",
              "      border-color: transparent;\n",
              "      border-bottom-color: var(--fill-color);\n",
              "      border-left-color: var(--fill-color);\n",
              "    }\n",
              "    20% {\n",
              "      border-color: transparent;\n",
              "      border-left-color: var(--fill-color);\n",
              "      border-top-color: var(--fill-color);\n",
              "    }\n",
              "    30% {\n",
              "      border-color: transparent;\n",
              "      border-left-color: var(--fill-color);\n",
              "      border-top-color: var(--fill-color);\n",
              "      border-right-color: var(--fill-color);\n",
              "    }\n",
              "    40% {\n",
              "      border-color: transparent;\n",
              "      border-right-color: var(--fill-color);\n",
              "      border-top-color: var(--fill-color);\n",
              "    }\n",
              "    60% {\n",
              "      border-color: transparent;\n",
              "      border-right-color: var(--fill-color);\n",
              "    }\n",
              "    80% {\n",
              "      border-color: transparent;\n",
              "      border-right-color: var(--fill-color);\n",
              "      border-bottom-color: var(--fill-color);\n",
              "    }\n",
              "    90% {\n",
              "      border-color: transparent;\n",
              "      border-bottom-color: var(--fill-color);\n",
              "    }\n",
              "  }\n",
              "</style>\n",
              "\n",
              "  <script>\n",
              "    async function quickchart(key) {\n",
              "      const quickchartButtonEl =\n",
              "        document.querySelector('#' + key + ' button');\n",
              "      quickchartButtonEl.disabled = true;  // To prevent multiple clicks.\n",
              "      quickchartButtonEl.classList.add('colab-df-spinner');\n",
              "      try {\n",
              "        const charts = await google.colab.kernel.invokeFunction(\n",
              "            'suggestCharts', [key], {});\n",
              "      } catch (error) {\n",
              "        console.error('Error during call to suggestCharts:', error);\n",
              "      }\n",
              "      quickchartButtonEl.classList.remove('colab-df-spinner');\n",
              "      quickchartButtonEl.classList.add('colab-df-quickchart-complete');\n",
              "    }\n",
              "    (() => {\n",
              "      let quickchartButtonEl =\n",
              "        document.querySelector('#df-259aca73-71c0-49b6-b6cb-f1b8a362ea1b button');\n",
              "      quickchartButtonEl.style.display =\n",
              "        google.colab.kernel.accessAllowed ? 'block' : 'none';\n",
              "    })();\n",
              "  </script>\n",
              "</div>\n",
              "\n",
              "    </div>\n",
              "  </div>\n"
            ],
            "application/vnd.google.colaboratory.intrinsic+json": {
              "type": "dataframe",
              "variable_name": "train_data",
              "summary": "{\n  \"name\": \"train_data\",\n  \"rows\": 48854,\n  \"fields\": [\n    {\n      \"column\": \"label\",\n      \"properties\": {\n        \"dtype\": \"number\",\n        \"std\": 1,\n        \"min\": 1,\n        \"max\": 4,\n        \"num_unique_values\": 4,\n        \"samples\": [\n          2,\n          4,\n          1\n        ],\n        \"semantic_type\": \"\",\n        \"description\": \"\"\n      }\n    },\n    {\n      \"column\": \"text\",\n      \"properties\": {\n        \"dtype\": \"string\",\n        \"num_unique_values\": 48652,\n        \"samples\": [\n          \"The ongoing plight of passengers who recently escaped the disabled Carnival cruise liner Triumph took another unfortunate turn Thursday when, just hours after they disembarked the filthy ship and boarded a charter bus for New Orleans, their vehicle careened off the road and crashed into a local sewage treatment plant. Oh, goddamn it, youve got to be fucking kidding me, former Triumph traveler Laura Jackson said as torrents of human waste rose around her ankles and soiled her newly changed clothing. You know what? Bring it on. Just go ahead and pour shit all over me. Lock me in a Porta-Potty and roll me down a hill, see if I give a fuck. Screw it. At press time, Carnival had issued an apology to all passengers affected by the accident and offered them 100 Loyalty Club points redeemable on any future cruise. \",\n          \"With political turmoil and economic chaos threatening to tear the nation apart, Russia's parliament voted unanimously Monday to rename the crumbling former superpower 'Batshitzania.' 'We felt a new name was in order to suit our new identity,' said acting Batshitzanian prime minister Viktor Chernomyrdin, standing atop a burning Kremlin. 'Citizens are frantically trying to get rid of their worthless rubles, our nuclear weapons are sitting unguarded in abandoned silos, and the mentally unstable Boris Yeltsin, who is scheduled to undergo octuple-bypass surgery next week, refuses to step down. Basically, everything's going bat-shit zany over here.' Other names considered for the collapsing nation include Kabloomia, Dystopskia and Hell. \",\n          \"BREAKING: Obama Launches Terrifying Plan To Do THIS In 2016 At this point, were not even surprised that Obama is making another power move before leaving office in 2016. According to recent reports, Obama and a few of his friends have just launched a plan to urge immigrants to become registered voters. Almost all of them will vote Democrat, so you can see the motivation there, Tucker Carlson of Fox Friends commented. What theyre doing is a full-court press on getting these aliens9 million of themregistered as citizens in time for the 2016 election, added Former Justice Department official J. Christian Adams. They are redirecting resources of DHS to this effort, this campaign. In fact, an internal memo from the DHS Task Force even admits this is being done for political purposes. What do you think? Is this move pathetic and tasteless? \"\n        ],\n        \"semantic_type\": \"\",\n        \"description\": \"\"\n      }\n    }\n  ]\n}"
            }
          },
          "metadata": {},
          "execution_count": 17
        }
      ]
    },
    {
      "cell_type": "code",
      "source": [
        "from sklearn.utils import resample\n",
        "# Preprocess, remove outliers, make data balanced\n",
        "# 1 is satire, 4 is reliable news\n",
        "\n",
        "train_data = train_data[(train_data['label'] == 1) | (train_data['label']==4)]\n",
        "train_data['label'].unique()\n",
        "\n",
        "print(\"Original label counts\")\n",
        "label_counts = train_data['label'].value_counts()\n",
        "print(label_counts)\n",
        "\n",
        "train_data_satire = train_data[train_data['label'] == 1]\n",
        "train_data_reliable = train_data[train_data['label'] == 4]\n",
        "\n",
        "# Undersample the majority class\n",
        "train_data_satire_sampled = resample(train_data_satire,\n",
        "                                    replace=False,\n",
        "                                    n_samples=len(train_data_reliable),\n",
        "                                    random_state=42)\n",
        "\n",
        "# Combine the minority class with the downsampled majority class\n",
        "train_data_balanced = pd.concat([train_data_satire_sampled, train_data_reliable])\n",
        "\n",
        "# Display new class counts\n",
        "print(\"Balanced label counts\")\n",
        "print(train_data_balanced['label'].value_counts())\n",
        "\n",
        "## Label Satire as 0, Reliable as 1\n",
        "train_data_balanced['label'] = train_data_balanced['label'].replace({1: 0, 4: 1})\n",
        "train_data_balanced.head()"
      ],
      "metadata": {
        "colab": {
          "base_uri": "https://localhost:8080/",
          "height": 380
        },
        "id": "3HyiCmd_5EHN",
        "outputId": "ea2d5893-2f7d-41c3-d936-dbd9cab8ffeb"
      },
      "execution_count": null,
      "outputs": [
        {
          "output_type": "stream",
          "name": "stdout",
          "text": [
            "Original label counts\n",
            "label\n",
            "1    14047\n",
            "4     9995\n",
            "Name: count, dtype: int64\n",
            "Balanced label counts\n",
            "label\n",
            "1    9995\n",
            "4    9995\n",
            "Name: count, dtype: int64\n"
          ]
        },
        {
          "output_type": "execute_result",
          "data": {
            "text/plain": [
              "       label                                               text\n",
              "3289       0  Plunging into a downward spiral of despair and...\n",
              "7798       0  Connie Barstow, 56, struggled Monday to appear...\n",
              "11242      0  A little more than a month after the first fam...\n",
              "4454       0  Despite repeated appeals to his better judgmen...\n",
              "11313      0  In what is probably being hailed as some sort ..."
            ],
            "text/html": [
              "\n",
              "  <div id=\"df-298522ed-769f-4717-adf2-492afb9d2401\" class=\"colab-df-container\">\n",
              "    <div>\n",
              "<style scoped>\n",
              "    .dataframe tbody tr th:only-of-type {\n",
              "        vertical-align: middle;\n",
              "    }\n",
              "\n",
              "    .dataframe tbody tr th {\n",
              "        vertical-align: top;\n",
              "    }\n",
              "\n",
              "    .dataframe thead th {\n",
              "        text-align: right;\n",
              "    }\n",
              "</style>\n",
              "<table border=\"1\" class=\"dataframe\">\n",
              "  <thead>\n",
              "    <tr style=\"text-align: right;\">\n",
              "      <th></th>\n",
              "      <th>label</th>\n",
              "      <th>text</th>\n",
              "    </tr>\n",
              "  </thead>\n",
              "  <tbody>\n",
              "    <tr>\n",
              "      <th>3289</th>\n",
              "      <td>0</td>\n",
              "      <td>Plunging into a downward spiral of despair and...</td>\n",
              "    </tr>\n",
              "    <tr>\n",
              "      <th>7798</th>\n",
              "      <td>0</td>\n",
              "      <td>Connie Barstow, 56, struggled Monday to appear...</td>\n",
              "    </tr>\n",
              "    <tr>\n",
              "      <th>11242</th>\n",
              "      <td>0</td>\n",
              "      <td>A little more than a month after the first fam...</td>\n",
              "    </tr>\n",
              "    <tr>\n",
              "      <th>4454</th>\n",
              "      <td>0</td>\n",
              "      <td>Despite repeated appeals to his better judgmen...</td>\n",
              "    </tr>\n",
              "    <tr>\n",
              "      <th>11313</th>\n",
              "      <td>0</td>\n",
              "      <td>In what is probably being hailed as some sort ...</td>\n",
              "    </tr>\n",
              "  </tbody>\n",
              "</table>\n",
              "</div>\n",
              "    <div class=\"colab-df-buttons\">\n",
              "\n",
              "  <div class=\"colab-df-container\">\n",
              "    <button class=\"colab-df-convert\" onclick=\"convertToInteractive('df-298522ed-769f-4717-adf2-492afb9d2401')\"\n",
              "            title=\"Convert this dataframe to an interactive table.\"\n",
              "            style=\"display:none;\">\n",
              "\n",
              "  <svg xmlns=\"http://www.w3.org/2000/svg\" height=\"24px\" viewBox=\"0 -960 960 960\">\n",
              "    <path d=\"M120-120v-720h720v720H120Zm60-500h600v-160H180v160Zm220 220h160v-160H400v160Zm0 220h160v-160H400v160ZM180-400h160v-160H180v160Zm440 0h160v-160H620v160ZM180-180h160v-160H180v160Zm440 0h160v-160H620v160Z\"/>\n",
              "  </svg>\n",
              "    </button>\n",
              "\n",
              "  <style>\n",
              "    .colab-df-container {\n",
              "      display:flex;\n",
              "      gap: 12px;\n",
              "    }\n",
              "\n",
              "    .colab-df-convert {\n",
              "      background-color: #E8F0FE;\n",
              "      border: none;\n",
              "      border-radius: 50%;\n",
              "      cursor: pointer;\n",
              "      display: none;\n",
              "      fill: #1967D2;\n",
              "      height: 32px;\n",
              "      padding: 0 0 0 0;\n",
              "      width: 32px;\n",
              "    }\n",
              "\n",
              "    .colab-df-convert:hover {\n",
              "      background-color: #E2EBFA;\n",
              "      box-shadow: 0px 1px 2px rgba(60, 64, 67, 0.3), 0px 1px 3px 1px rgba(60, 64, 67, 0.15);\n",
              "      fill: #174EA6;\n",
              "    }\n",
              "\n",
              "    .colab-df-buttons div {\n",
              "      margin-bottom: 4px;\n",
              "    }\n",
              "\n",
              "    [theme=dark] .colab-df-convert {\n",
              "      background-color: #3B4455;\n",
              "      fill: #D2E3FC;\n",
              "    }\n",
              "\n",
              "    [theme=dark] .colab-df-convert:hover {\n",
              "      background-color: #434B5C;\n",
              "      box-shadow: 0px 1px 3px 1px rgba(0, 0, 0, 0.15);\n",
              "      filter: drop-shadow(0px 1px 2px rgba(0, 0, 0, 0.3));\n",
              "      fill: #FFFFFF;\n",
              "    }\n",
              "  </style>\n",
              "\n",
              "    <script>\n",
              "      const buttonEl =\n",
              "        document.querySelector('#df-298522ed-769f-4717-adf2-492afb9d2401 button.colab-df-convert');\n",
              "      buttonEl.style.display =\n",
              "        google.colab.kernel.accessAllowed ? 'block' : 'none';\n",
              "\n",
              "      async function convertToInteractive(key) {\n",
              "        const element = document.querySelector('#df-298522ed-769f-4717-adf2-492afb9d2401');\n",
              "        const dataTable =\n",
              "          await google.colab.kernel.invokeFunction('convertToInteractive',\n",
              "                                                    [key], {});\n",
              "        if (!dataTable) return;\n",
              "\n",
              "        const docLinkHtml = 'Like what you see? Visit the ' +\n",
              "          '<a target=\"_blank\" href=https://colab.research.google.com/notebooks/data_table.ipynb>data table notebook</a>'\n",
              "          + ' to learn more about interactive tables.';\n",
              "        element.innerHTML = '';\n",
              "        dataTable['output_type'] = 'display_data';\n",
              "        await google.colab.output.renderOutput(dataTable, element);\n",
              "        const docLink = document.createElement('div');\n",
              "        docLink.innerHTML = docLinkHtml;\n",
              "        element.appendChild(docLink);\n",
              "      }\n",
              "    </script>\n",
              "  </div>\n",
              "\n",
              "\n",
              "<div id=\"df-5d87b22f-f861-46e0-8942-3f91354d9927\">\n",
              "  <button class=\"colab-df-quickchart\" onclick=\"quickchart('df-5d87b22f-f861-46e0-8942-3f91354d9927')\"\n",
              "            title=\"Suggest charts\"\n",
              "            style=\"display:none;\">\n",
              "\n",
              "<svg xmlns=\"http://www.w3.org/2000/svg\" height=\"24px\"viewBox=\"0 0 24 24\"\n",
              "     width=\"24px\">\n",
              "    <g>\n",
              "        <path d=\"M19 3H5c-1.1 0-2 .9-2 2v14c0 1.1.9 2 2 2h14c1.1 0 2-.9 2-2V5c0-1.1-.9-2-2-2zM9 17H7v-7h2v7zm4 0h-2V7h2v10zm4 0h-2v-4h2v4z\"/>\n",
              "    </g>\n",
              "</svg>\n",
              "  </button>\n",
              "\n",
              "<style>\n",
              "  .colab-df-quickchart {\n",
              "      --bg-color: #E8F0FE;\n",
              "      --fill-color: #1967D2;\n",
              "      --hover-bg-color: #E2EBFA;\n",
              "      --hover-fill-color: #174EA6;\n",
              "      --disabled-fill-color: #AAA;\n",
              "      --disabled-bg-color: #DDD;\n",
              "  }\n",
              "\n",
              "  [theme=dark] .colab-df-quickchart {\n",
              "      --bg-color: #3B4455;\n",
              "      --fill-color: #D2E3FC;\n",
              "      --hover-bg-color: #434B5C;\n",
              "      --hover-fill-color: #FFFFFF;\n",
              "      --disabled-bg-color: #3B4455;\n",
              "      --disabled-fill-color: #666;\n",
              "  }\n",
              "\n",
              "  .colab-df-quickchart {\n",
              "    background-color: var(--bg-color);\n",
              "    border: none;\n",
              "    border-radius: 50%;\n",
              "    cursor: pointer;\n",
              "    display: none;\n",
              "    fill: var(--fill-color);\n",
              "    height: 32px;\n",
              "    padding: 0;\n",
              "    width: 32px;\n",
              "  }\n",
              "\n",
              "  .colab-df-quickchart:hover {\n",
              "    background-color: var(--hover-bg-color);\n",
              "    box-shadow: 0 1px 2px rgba(60, 64, 67, 0.3), 0 1px 3px 1px rgba(60, 64, 67, 0.15);\n",
              "    fill: var(--button-hover-fill-color);\n",
              "  }\n",
              "\n",
              "  .colab-df-quickchart-complete:disabled,\n",
              "  .colab-df-quickchart-complete:disabled:hover {\n",
              "    background-color: var(--disabled-bg-color);\n",
              "    fill: var(--disabled-fill-color);\n",
              "    box-shadow: none;\n",
              "  }\n",
              "\n",
              "  .colab-df-spinner {\n",
              "    border: 2px solid var(--fill-color);\n",
              "    border-color: transparent;\n",
              "    border-bottom-color: var(--fill-color);\n",
              "    animation:\n",
              "      spin 1s steps(1) infinite;\n",
              "  }\n",
              "\n",
              "  @keyframes spin {\n",
              "    0% {\n",
              "      border-color: transparent;\n",
              "      border-bottom-color: var(--fill-color);\n",
              "      border-left-color: var(--fill-color);\n",
              "    }\n",
              "    20% {\n",
              "      border-color: transparent;\n",
              "      border-left-color: var(--fill-color);\n",
              "      border-top-color: var(--fill-color);\n",
              "    }\n",
              "    30% {\n",
              "      border-color: transparent;\n",
              "      border-left-color: var(--fill-color);\n",
              "      border-top-color: var(--fill-color);\n",
              "      border-right-color: var(--fill-color);\n",
              "    }\n",
              "    40% {\n",
              "      border-color: transparent;\n",
              "      border-right-color: var(--fill-color);\n",
              "      border-top-color: var(--fill-color);\n",
              "    }\n",
              "    60% {\n",
              "      border-color: transparent;\n",
              "      border-right-color: var(--fill-color);\n",
              "    }\n",
              "    80% {\n",
              "      border-color: transparent;\n",
              "      border-right-color: var(--fill-color);\n",
              "      border-bottom-color: var(--fill-color);\n",
              "    }\n",
              "    90% {\n",
              "      border-color: transparent;\n",
              "      border-bottom-color: var(--fill-color);\n",
              "    }\n",
              "  }\n",
              "</style>\n",
              "\n",
              "  <script>\n",
              "    async function quickchart(key) {\n",
              "      const quickchartButtonEl =\n",
              "        document.querySelector('#' + key + ' button');\n",
              "      quickchartButtonEl.disabled = true;  // To prevent multiple clicks.\n",
              "      quickchartButtonEl.classList.add('colab-df-spinner');\n",
              "      try {\n",
              "        const charts = await google.colab.kernel.invokeFunction(\n",
              "            'suggestCharts', [key], {});\n",
              "      } catch (error) {\n",
              "        console.error('Error during call to suggestCharts:', error);\n",
              "      }\n",
              "      quickchartButtonEl.classList.remove('colab-df-spinner');\n",
              "      quickchartButtonEl.classList.add('colab-df-quickchart-complete');\n",
              "    }\n",
              "    (() => {\n",
              "      let quickchartButtonEl =\n",
              "        document.querySelector('#df-5d87b22f-f861-46e0-8942-3f91354d9927 button');\n",
              "      quickchartButtonEl.style.display =\n",
              "        google.colab.kernel.accessAllowed ? 'block' : 'none';\n",
              "    })();\n",
              "  </script>\n",
              "</div>\n",
              "\n",
              "    </div>\n",
              "  </div>\n"
            ],
            "application/vnd.google.colaboratory.intrinsic+json": {
              "type": "dataframe",
              "variable_name": "train_data_balanced",
              "summary": "{\n  \"name\": \"train_data_balanced\",\n  \"rows\": 19990,\n  \"fields\": [\n    {\n      \"column\": \"label\",\n      \"properties\": {\n        \"dtype\": \"number\",\n        \"std\": 0,\n        \"min\": 0,\n        \"max\": 1,\n        \"num_unique_values\": 2,\n        \"samples\": [\n          1,\n          0\n        ],\n        \"semantic_type\": \"\",\n        \"description\": \"\"\n      }\n    },\n    {\n      \"column\": \"text\",\n      \"properties\": {\n        \"dtype\": \"string\",\n        \"num_unique_values\": 19861,\n        \"samples\": [\n          \"A warm up for the Taipei International Flora Expo will take place this weekend, with participants to be taken on a floral tour in Taipei where they will see dozens of sites, each with a different flower theme, city officials said Thursday. The tour will be held in concurrence with the Expo's trial run opening. The Expo, scheduled to open in November, will be one of the biggest international events Taipei has ever hosted. According to Taipei's Department of Cultural Affairs, the Taipei Floral Tour will be launched in 22 cultural or historic attractions all over the city, including the Lin Yutang House, the Guling Street Avant-garde Theatre, and the Taipei Cinema Park. Twenty two different kinds of flowers have been chosen for every tour site, according to their symbolic meaning, said a press release issued by the department. For example, the Taipei Cinema Park, which has a coffee garden, will feature 'coffee flowers.' camelias will be the theme flower for the Grass Mountain Artist Village because former first lady Madame Chiang Kai-shek was said to have often rested under a camellia tree near achateau in the village when she and her husband stayed there. People are encouraged to join the tour and collect all the 22 flower stamps at every site in exchange for eight different amulets, the department said. Other plant-themed activities are also scheduled at the various stops on the tour. The Flora Expo, which is set to run from November 6 to April 25, marks the first time such an exposition will be held in Taiwan. \",\n          \"(c) 2009, Los Angeles Times LOS ANGELES -- A sleepless Michael Jackson spent his last hours begging his doctor for a dose of a powerful anesthetic. For six hours, Dr. Conrad Murray resisted -- fearful that the pop star had developed a dangerous addiction to propofol, according to court records unsealed Monday. Instead, Murray administered the sedatives Valium, lorazepam and midazolam -- five times over six hours. But none put Jackson to sleep, and he continued to demand his 'milk,' the word the pop star used for propofol. Murray finally relented and at 10:40 a.m. added the drug to Jackson's IV, according the records. That dose -- mixed with the cocktail of other sedatives in the pop-star's system -- was enough to kill him, concluded the Los Angeles County Coroner's office in a preliminary toxicology report cited in a search-warrant affidavit unsealed Monday in Houston. These documents address one of the central questions in the Jackson death investigation: What killed him. The coroner's office, according to the records, said it found 'lethal levels' of propofol in Jackson's system. The records also lay out the first detailed chronology of Jackson's final hours June 25 -- and reveal Murray's fateful decision to give Jackson the drugs despite his suspicions that the pop star was becoming addicted to them. Authorities still have not disclosed how Jackson or Murray obtained the propofol, which is typically used in hospitals by anesthesiologists. Another unanswered question is exactly when Jackson stopped breathing. Both are important to the criminal investigation. Police said Murray told them he found Jackson not breathing at 11 a.m. -- a contention Murray's attorney disputes -- but paramedics were not called until nearly 90 minutes later. During that time, police suspect that Murray made three cell-phone calls that total 47 minutes, according to the affidavits, filed in June when authorities sought search warrants for Murray's Houston medical office and storage unit. And, Murray failed to tell paramedics or emergency room doctors that he had administered propofol, an omission that calls into question Murray's treatment and could bolster pursuit of an involuntary manslaughter charge, authorities said. 'Michael Jackson was not the usual patient with the usual problems in the usual circumstances,' said Murray's attorney, Edward Chernoff, in response to the court records. 'Dr. Murray's overriding goal was to try to help him. ... To place negligence on him simply because he was there, I don't think is fair.' Authorities have sought records from at least five physicians who treated Jackson as well as pharmacies in Las Vegas and Beverly Hills, but Murray is the only one named in court documents as the target of the manslaughter investigation. Jackson specifically had asked AEG Live to hire Murray as his $150,000-a-month physician to travel with him to London, where he was scheduled for a 50-concert comeback tour. Two days after Jackson's death, Murray agreed to a three-hour police interview in which he described his patient as having insomnia and a worrisome addiction to propofol, records show. At Jackson's request, Murray had been administering 50 milligrams of the drug in the six weeks before his death using an intravenous line, according to court records. But after weeks of use, Murray said he tried to wean the pop star off the medication. Murray told detectives that he lowered Jackson's dosage to 25 milligrams and mixed it with two other sedatives, lorazepam and midazolam. Then, on June 23, he administered those two medications and withheld the propofol -- and Jackson was able to sleep. On June 25, Murray once again tried to induce sleep without resorting to propofol, according to the affidavit. He first gave Jackson the three alternative sedatives at 1:30 a.m., 2 a.m., 3 a.m., 5 a.m. and 7:30 a.m. But Jackson remained awake. Finally, 'after repeated demands/requests from Jackson,' Murray relented and gave Jackson 25 milligrams of propofol, diluted with another sedative, records state. Medical experts said that a 25 milligram-dose for someone Jackson's size should not have been enough to kill him. But combined with other drugs, the propofol could have been more dangerous. 'You start giving a lot of drugs and don't know what the final effects might be,' said Dr. Scott Engwall, vice chair of the Department of Anesthesiology at the University of California, Irvine School of Medicine. 'When you give a little bit of this and a little bit of that, it starts adding up.' According to the court records, Murray sat at Jackson's bedside for 10 minutes after he fell asleep, before leaving to use the restroom for no more than two minutes. When he returned, he found Jackson not breathing and said he immediately began administering CPR as well as a drug to reverse the effects of the sedative. Murray's attorney criticized the timeline outlined in the document as 'theory, not fact' and disputed the significance of the phone calls. 'Dr. Murray never said 10 minutes. He said he watched him long enough that he felt comfortable,' Chernoff said. 'Their theory is he ... goes off to make some social calls and comes back and finds Michael Jackson is dead and is negligent. The implication is that he left the room to make the phone calls. He didn't need to leave the room to make the calls.' Chernoff declined to say why Murray did not immediately tell paramedics and emergency room doctors that he had given Jackson propofol. Los Angeles Police Deputy Chief Charlie Beck said the investigation was ongoing and that the findings would be forwarded to county prosecutors who ultimately will determine whether to file criminal charges. \"\n        ],\n        \"semantic_type\": \"\",\n        \"description\": \"\"\n      }\n    }\n  ]\n}"
            }
          },
          "metadata": {},
          "execution_count": 18
        }
      ]
    },
    {
      "cell_type": "code",
      "source": [
        "import pandas as pd\n",
        "import matplotlib.pyplot as plt\n",
        "from collections import Counter\n",
        "from nltk.tokenize import word_tokenize\n",
        "\n",
        "print(\"Class Distribution:\")\n",
        "print(train_data_balanced['label'].value_counts(normalize=True))\n",
        "\n",
        "review_lengths = train_data_balanced['text'].apply(lambda x: len(word_tokenize(x)))\n",
        "plt.figure(figsize=(9, 6))\n",
        "plt.hist(review_lengths, bins=50, alpha=0.7)\n",
        "plt.title('Distribution of News Lengths')\n",
        "plt.xlabel('Reviews Length')\n",
        "plt.ylabel('Reviews Num')\n",
        "plt.show()\n",
        "\n",
        "stop_words = set(stopwords.words('english'))\n",
        "all_words = [word for review in train_data['text'] for word in word_tokenize(review.lower()) if word.isalpha() and word not in stop_words]\n",
        "\n",
        "word_freq = Counter(all_words).most_common(20)\n",
        "\n",
        "words, frequencies = zip(*word_freq)\n",
        "plt.figure(figsize=(9, 6))\n",
        "plt.bar(words, frequencies)\n",
        "plt.title('Top 20 Common Words')\n",
        "plt.xticks(rotation=45)\n",
        "plt.xlabel('Words')\n",
        "plt.ylabel('Frequency')\n",
        "plt.show()\n"
      ],
      "metadata": {
        "colab": {
          "base_uri": "https://localhost:8080/",
          "height": 1000
        },
        "id": "8g6INYX0iHdM",
        "outputId": "2ac1ecef-a2de-4dcb-c0f9-b2b8fe90d452"
      },
      "execution_count": null,
      "outputs": [
        {
          "output_type": "stream",
          "name": "stdout",
          "text": [
            "Class Distribution:\n",
            "label\n",
            "0    0.5\n",
            "1    0.5\n",
            "Name: proportion, dtype: float64\n"
          ]
        },
        {
          "output_type": "display_data",
          "data": {
            "text/plain": [
              "<Figure size 900x600 with 1 Axes>"
            ],
            "image/png": "[encoded data removed]"
          },
          "metadata": {}
        },
        {
          "output_type": "display_data",
          "data": {
            "text/plain": [
              "<Figure size 900x600 with 1 Axes>"
            ],
            "image/png": "[encoded data removed]"
          },
          "metadata": {}
        }
      ]
    },
    {
      "cell_type": "code",
      "source": [
        "## Preprocess test data\n",
        "\n",
        "test_data = pd.read_csv('/content/gdrive/MyDrive/NTU mods/EE6405/Project/news_balancedtest.csv', header=None)\n",
        "test_data.columns=['label', 'text']\n",
        "test_data = test_data[(test_data['label'] == 1) | (test_data['label']==4)]\n",
        "print(test_data.value_counts('label'))\n",
        "test_data_balanced = test_data.copy()\n",
        "test_data_balanced['label'] = test_data_balanced['label'].replace({1: 0, 4: 1})\n",
        "test_data_balanced.head()"
      ],
      "metadata": {
        "colab": {
          "base_uri": "https://localhost:8080/",
          "height": 276
        },
        "id": "m0LEUqQc-Wi6",
        "outputId": "13178d6f-1f15-4ff4-fdef-4f2055ec964d"
      },
      "execution_count": null,
      "outputs": [
        {
          "output_type": "stream",
          "name": "stdout",
          "text": [
            "label\n",
            "1    750\n",
            "4    750\n",
            "Name: count, dtype: int64\n"
          ]
        },
        {
          "output_type": "execute_result",
          "data": {
            "text/plain": [
              "   label                                               text\n",
              "0      0  When so many actors seem content to churn out ...\n",
              "1      0   In what football insiders are calling an unex...\n",
              "2      0  In a freak accident following Game 3 of the N....\n",
              "3      0  North Koreas official news agency announced to...\n",
              "4      0  The former Alaska Governor Sarah Palin would b..."
            ],
            "text/html": [
              "\n",
              "  <div id=\"df-b07994a4-a34d-4b1b-b3e3-04e621ff9007\" class=\"colab-df-container\">\n",
              "    <div>\n",
              "<style scoped>\n",
              "    .dataframe tbody tr th:only-of-type {\n",
              "        vertical-align: middle;\n",
              "    }\n",
              "\n",
              "    .dataframe tbody tr th {\n",
              "        vertical-align: top;\n",
              "    }\n",
              "\n",
              "    .dataframe thead th {\n",
              "        text-align: right;\n",
              "    }\n",
              "</style>\n",
              "<table border=\"1\" class=\"dataframe\">\n",
              "  <thead>\n",
              "    <tr style=\"text-align: right;\">\n",
              "      <th></th>\n",
              "      <th>label</th>\n",
              "      <th>text</th>\n",
              "    </tr>\n",
              "  </thead>\n",
              "  <tbody>\n",
              "    <tr>\n",
              "      <th>0</th>\n",
              "      <td>0</td>\n",
              "      <td>When so many actors seem content to churn out ...</td>\n",
              "    </tr>\n",
              "    <tr>\n",
              "      <th>1</th>\n",
              "      <td>0</td>\n",
              "      <td>In what football insiders are calling an unex...</td>\n",
              "    </tr>\n",
              "    <tr>\n",
              "      <th>2</th>\n",
              "      <td>0</td>\n",
              "      <td>In a freak accident following Game 3 of the N....</td>\n",
              "    </tr>\n",
              "    <tr>\n",
              "      <th>3</th>\n",
              "      <td>0</td>\n",
              "      <td>North Koreas official news agency announced to...</td>\n",
              "    </tr>\n",
              "    <tr>\n",
              "      <th>4</th>\n",
              "      <td>0</td>\n",
              "      <td>The former Alaska Governor Sarah Palin would b...</td>\n",
              "    </tr>\n",
              "  </tbody>\n",
              "</table>\n",
              "</div>\n",
              "    <div class=\"colab-df-buttons\">\n",
              "\n",
              "  <div class=\"colab-df-container\">\n",
              "    <button class=\"colab-df-convert\" onclick=\"convertToInteractive('df-b07994a4-a34d-4b1b-b3e3-04e621ff9007')\"\n",
              "            title=\"Convert this dataframe to an interactive table.\"\n",
              "            style=\"display:none;\">\n",
              "\n",
              "  <svg xmlns=\"http://www.w3.org/2000/svg\" height=\"24px\" viewBox=\"0 -960 960 960\">\n",
              "    <path d=\"M120-120v-720h720v720H120Zm60-500h600v-160H180v160Zm220 220h160v-160H400v160Zm0 220h160v-160H400v160ZM180-400h160v-160H180v160Zm440 0h160v-160H620v160ZM180-180h160v-160H180v160Zm440 0h160v-160H620v160Z\"/>\n",
              "  </svg>\n",
              "    </button>\n",
              "\n",
              "  <style>\n",
              "    .colab-df-container {\n",
              "      display:flex;\n",
              "      gap: 12px;\n",
              "    }\n",
              "\n",
              "    .colab-df-convert {\n",
              "      background-color: #E8F0FE;\n",
              "      border: none;\n",
              "      border-radius: 50%;\n",
              "      cursor: pointer;\n",
              "      display: none;\n",
              "      fill: #1967D2;\n",
              "      height: 32px;\n",
              "      padding: 0 0 0 0;\n",
              "      width: 32px;\n",
              "    }\n",
              "\n",
              "    .colab-df-convert:hover {\n",
              "      background-color: #E2EBFA;\n",
              "      box-shadow: 0px 1px 2px rgba(60, 64, 67, 0.3), 0px 1px 3px 1px rgba(60, 64, 67, 0.15);\n",
              "      fill: #174EA6;\n",
              "    }\n",
              "\n",
              "    .colab-df-buttons div {\n",
              "      margin-bottom: 4px;\n",
              "    }\n",
              "\n",
              "    [theme=dark] .colab-df-convert {\n",
              "      background-color: #3B4455;\n",
              "      fill: #D2E3FC;\n",
              "    }\n",
              "\n",
              "    [theme=dark] .colab-df-convert:hover {\n",
              "      background-color: #434B5C;\n",
              "      box-shadow: 0px 1px 3px 1px rgba(0, 0, 0, 0.15);\n",
              "      filter: drop-shadow(0px 1px 2px rgba(0, 0, 0, 0.3));\n",
              "      fill: #FFFFFF;\n",
              "    }\n",
              "  </style>\n",
              "\n",
              "    <script>\n",
              "      const buttonEl =\n",
              "        document.querySelector('#df-b07994a4-a34d-4b1b-b3e3-04e621ff9007 button.colab-df-convert');\n",
              "      buttonEl.style.display =\n",
              "        google.colab.kernel.accessAllowed ? 'block' : 'none';\n",
              "\n",
              "      async function convertToInteractive(key) {\n",
              "        const element = document.querySelector('#df-b07994a4-a34d-4b1b-b3e3-04e621ff9007');\n",
              "        const dataTable =\n",
              "          await google.colab.kernel.invokeFunction('convertToInteractive',\n",
              "                                                    [key], {});\n",
              "        if (!dataTable) return;\n",
              "\n",
              "        const docLinkHtml = 'Like what you see? Visit the ' +\n",
              "          '<a target=\"_blank\" href=https://colab.research.google.com/notebooks/data_table.ipynb>data table notebook</a>'\n",
              "          + ' to learn more about interactive tables.';\n",
              "        element.innerHTML = '';\n",
              "        dataTable['output_type'] = 'display_data';\n",
              "        await google.colab.output.renderOutput(dataTable, element);\n",
              "        const docLink = document.createElement('div');\n",
              "        docLink.innerHTML = docLinkHtml;\n",
              "        element.appendChild(docLink);\n",
              "      }\n",
              "    </script>\n",
              "  </div>\n",
              "\n",
              "\n",
              "<div id=\"df-fdcd0f46-e334-49f4-8c3b-49521fcf2ca8\">\n",
              "  <button class=\"colab-df-quickchart\" onclick=\"quickchart('df-fdcd0f46-e334-49f4-8c3b-49521fcf2ca8')\"\n",
              "            title=\"Suggest charts\"\n",
              "            style=\"display:none;\">\n",
              "\n",
              "<svg xmlns=\"http://www.w3.org/2000/svg\" height=\"24px\"viewBox=\"0 0 24 24\"\n",
              "     width=\"24px\">\n",
              "    <g>\n",
              "        <path d=\"M19 3H5c-1.1 0-2 .9-2 2v14c0 1.1.9 2 2 2h14c1.1 0 2-.9 2-2V5c0-1.1-.9-2-2-2zM9 17H7v-7h2v7zm4 0h-2V7h2v10zm4 0h-2v-4h2v4z\"/>\n",
              "    </g>\n",
              "</svg>\n",
              "  </button>\n",
              "\n",
              "<style>\n",
              "  .colab-df-quickchart {\n",
              "      --bg-color: #E8F0FE;\n",
              "      --fill-color: #1967D2;\n",
              "      --hover-bg-color: #E2EBFA;\n",
              "      --hover-fill-color: #174EA6;\n",
              "      --disabled-fill-color: #AAA;\n",
              "      --disabled-bg-color: #DDD;\n",
              "  }\n",
              "\n",
              "  [theme=dark] .colab-df-quickchart {\n",
              "      --bg-color: #3B4455;\n",
              "      --fill-color: #D2E3FC;\n",
              "      --hover-bg-color: #434B5C;\n",
              "      --hover-fill-color: #FFFFFF;\n",
              "      --disabled-bg-color: #3B4455;\n",
              "      --disabled-fill-color: #666;\n",
              "  }\n",
              "\n",
              "  .colab-df-quickchart {\n",
              "    background-color: var(--bg-color);\n",
              "    border: none;\n",
              "    border-radius: 50%;\n",
              "    cursor: pointer;\n",
              "    display: none;\n",
              "    fill: var(--fill-color);\n",
              "    height: 32px;\n",
              "    padding: 0;\n",
              "    width: 32px;\n",
              "  }\n",
              "\n",
              "  .colab-df-quickchart:hover {\n",
              "    background-color: var(--hover-bg-color);\n",
              "    box-shadow: 0 1px 2px rgba(60, 64, 67, 0.3), 0 1px 3px 1px rgba(60, 64, 67, 0.15);\n",
              "    fill: var(--button-hover-fill-color);\n",
              "  }\n",
              "\n",
              "  .colab-df-quickchart-complete:disabled,\n",
              "  .colab-df-quickchart-complete:disabled:hover {\n",
              "    background-color: var(--disabled-bg-color);\n",
              "    fill: var(--disabled-fill-color);\n",
              "    box-shadow: none;\n",
              "  }\n",
              "\n",
              "  .colab-df-spinner {\n",
              "    border: 2px solid var(--fill-color);\n",
              "    border-color: transparent;\n",
              "    border-bottom-color: var(--fill-color);\n",
              "    animation:\n",
              "      spin 1s steps(1) infinite;\n",
              "  }\n",
              "\n",
              "  @keyframes spin {\n",
              "    0% {\n",
              "      border-color: transparent;\n",
              "      border-bottom-color: var(--fill-color);\n",
              "      border-left-color: var(--fill-color);\n",
              "    }\n",
              "    20% {\n",
              "      border-color: transparent;\n",
              "      border-left-color: var(--fill-color);\n",
              "      border-top-color: var(--fill-color);\n",
              "    }\n",
              "    30% {\n",
              "      border-color: transparent;\n",
              "      border-left-color: var(--fill-color);\n",
              "      border-top-color: var(--fill-color);\n",
              "      border-right-color: var(--fill-color);\n",
              "    }\n",
              "    40% {\n",
              "      border-color: transparent;\n",
              "      border-right-color: var(--fill-color);\n",
              "      border-top-color: var(--fill-color);\n",
              "    }\n",
              "    60% {\n",
              "      border-color: transparent;\n",
              "      border-right-color: var(--fill-color);\n",
              "    }\n",
              "    80% {\n",
              "      border-color: transparent;\n",
              "      border-right-color: var(--fill-color);\n",
              "      border-bottom-color: var(--fill-color);\n",
              "    }\n",
              "    90% {\n",
              "      border-color: transparent;\n",
              "      border-bottom-color: var(--fill-color);\n",
              "    }\n",
              "  }\n",
              "</style>\n",
              "\n",
              "  <script>\n",
              "    async function quickchart(key) {\n",
              "      const quickchartButtonEl =\n",
              "        document.querySelector('#' + key + ' button');\n",
              "      quickchartButtonEl.disabled = true;  // To prevent multiple clicks.\n",
              "      quickchartButtonEl.classList.add('colab-df-spinner');\n",
              "      try {\n",
              "        const charts = await google.colab.kernel.invokeFunction(\n",
              "            'suggestCharts', [key], {});\n",
              "      } catch (error) {\n",
              "        console.error('Error during call to suggestCharts:', error);\n",
              "      }\n",
              "      quickchartButtonEl.classList.remove('colab-df-spinner');\n",
              "      quickchartButtonEl.classList.add('colab-df-quickchart-complete');\n",
              "    }\n",
              "    (() => {\n",
              "      let quickchartButtonEl =\n",
              "        document.querySelector('#df-fdcd0f46-e334-49f4-8c3b-49521fcf2ca8 button');\n",
              "      quickchartButtonEl.style.display =\n",
              "        google.colab.kernel.accessAllowed ? 'block' : 'none';\n",
              "    })();\n",
              "  </script>\n",
              "</div>\n",
              "\n",
              "    </div>\n",
              "  </div>\n"
            ],
            "application/vnd.google.colaboratory.intrinsic+json": {
              "type": "dataframe",
              "variable_name": "test_data_balanced",
              "summary": "{\n  \"name\": \"test_data_balanced\",\n  \"rows\": 1500,\n  \"fields\": [\n    {\n      \"column\": \"label\",\n      \"properties\": {\n        \"dtype\": \"number\",\n        \"std\": 0,\n        \"min\": 0,\n        \"max\": 1,\n        \"num_unique_values\": 2,\n        \"samples\": [\n          1,\n          0\n        ],\n        \"semantic_type\": \"\",\n        \"description\": \"\"\n      }\n    },\n    {\n      \"column\": \"text\",\n      \"properties\": {\n        \"dtype\": \"string\",\n        \"num_unique_values\": 1493,\n        \"samples\": [\n          \"Toyota admitted design problems with the brakes in its prized Prius, adding to the catalog of woes for the world's No. 1 automaker still reeling from a massive U.S. recall involving faulty gas pedals. Toyota Motor Corp. spokeswoman Ririko Takeuchi said Thursday that Toyota discovered there were design problems with the antilock brake system and corrected them for Prius models sold since late January, including those being shipped overseas. But the company said it was still investigating how to inform people who had bought the gas-electric hybrid cars. Nothing was decided on that front for Prius cars sold overseas, according to Toyota. Complaints about braking problems in the third-generation Prius have been reported in both the U.S. and Japan, combining to some 180, and come amid a global recall of nearly 4.5 million other top-selling vehicles for faulty gas pedals. 'We are investigating whether there are defects in the Prius,' Toyota executive Hiroyuki Yokoyama told reporters at Toyota's Tokyo. The company gave few details of the brake flaw. A major Toyota dealership in Tokyo said the automaker had informed dealers that Prius brakes can sometimes fail to work for less than a second but it had not told owners. 'It is disappointing because the Prius was receiving such rave reviews,' said Hiroyuki Naito, a manager at the dealership. The latest model Prius hit showrooms last May. The problem with the Prius -- the best-selling hybrid in the world and Toyota's flagship model -- is a big embarrassment for the automaker in its home turf Japan and another blow in the U.S., its biggest market. In recent weeks, the automaker had answered questions about its overseas recalls for gas pedals with assurances that problems didn't extend to Japanese vehicles, implying that it was doing a better job with quality control in Japan. The transport minister is ordering an investigation and said a recall for the Prius should be considered. U.S. authorities are also investigating. Earlier in Washington, U.S. Transportation Secretary Ray LaHood startled the public with a comment, which he later retracted, that Americans should park their recalled Toyotas unless driving to dealers for accelerator repairs. The popular gas-electric Prius was not part of the most recent recall over sticking gas pedals in eight top-selling models including the Camry that spanned the U.S., Europe and China. Toyota senior managing director Takahiro Ijichi defended the automaker's quality standards. 'We have not sacrificed the quality for the sake of saving costs,' he said. 'Quality is our lifeline. We want our customers to feel safe and regain their trust as soon as possible.' Toyota for the first time gave an estimate of the costs of the U.S. recall at up to $2 billion with $1.1 billion for the costs for the repairs and $770 million to $880 million in lost sales. The Prius, the world's best-selling hybrid, has been extremely popular in Japan because of government incentives that made hybrids tax-free. More than 170,000 the new remodeled Prius cars were sold in Japan and about 103,000 have been sold in the U.S. since May. Despite snowballing problems with quality, Toyota said Thursday it returned to profit in the October-December quarter because of healthy sales of its green models including the Prius, and raised its forecast for the fiscal year through March. Net profit for October-December was about $1.7 billion. It forecast a $880 million annual profit compared with its previous forecast for a $2.2 billion loss. Toyota also raised its full year sales outlook to 7.18 million units from 7.03 million. The revised forecast remains lower than the 7.57 million vehicles it sold last fiscal year. And it is unclear how well Toyota sales and profits will hold up in coming months. \",\n          \"BRUSSELS, Belgium - U.S. and NATO officials said Thursday that they expect the military alliance to formally participate in the Obama administration's plan for a missile defense shield over Europe, scheduled to be activated next year. 'Based on today's discussion, I am quite optimistic,' NATO Secretary General Anders Fogh Rasmussen told reporters after a joint meeting of foreign and defense ministers from the alliance membership. 'There is, I think, a broad agreement that we should make such a decision, but there is still some technical work to do.' NATO is scheduled to vote at a summit in Lisbon, Portugal, next month on whether to make missile defense a formal part of its mission. If it does, European alliance members would plug their individual defense systems into a broader missile shield that the Obama administration is building to guard against potential attacks from Iran. The United States would foot most of the bill for building and operating the shield over Europe. The combined cost for other NATO members to link into the system is projected to be about $200 million over 10 years, Rasmussen said. Although U.S. and NATO officials said they are close to a consensus on missile defense, there are still hurdles to overcome. Turkey, a NATO member and neighbor of Iran that would host a key anti-missile radar installation, has yet to commit. Defense Secretary Robert Gates and Secretary of State Hillary Rodham Clinton met with their Turkish counterparts on the sidelines of the NATO meeting Thursday to discuss whether Turkey will allow a high-powered X-band radar on its territory. The location of the radar is the last unresolved piece in the first phase of the Pentagon's missile defense shield for Europe. 'I would say that we are not putting pressure on the Turks, but we are having continuing conversations with them as one of our allies,' Gates said at a news conference in Brussels. Although Turkey is a longtime NATO member, its government has developed closer ties with Iran in recent years and appears reluctant to take steps that Tehran might consider hostile. Turkish officials have also sought guarantees that the anti-missile shield would cover the eastern part of their country, which borders Iran. Pentagon officials are seeking Turkey's agreement to host the radar installation but also to vote in favor of missile defense as a NATO mission at next month's summit. Because NATO operates by consensus, Turkish opposition could scuttle the alliance's plans. 'We've had some very good, deep discussions with Turkey, and now the decisions are in Ankara to make,' Jim Townsend Jr., deputy assistant secretary of defense for European and NATO policy, told reporters in Washington on Tuesday. Pentagon officials said they have been negotiating with other NATO allies in southern Europe to host the radar in case Turkey balks. One alternative is Bulgaria, which like Turkey borders the Black Sea but is farther from Iran. The radar installation - along with mobile radars deployed on Navy ships in the Mediterranean and Black seas - would provide a critical early warning of any launches from Iran, improving the odds of shooting down a missile. Obama announced in September 2009 that he was overhauling the Bush administration's plans for missile defense in Europe. Although Obama had previously expressed skepticism of Bush's approach, he directed the Pentagon to build a more extensive and flexible missile shield for Europe that will be built in phases between now and 2020. \"\n        ],\n        \"semantic_type\": \"\",\n        \"description\": \"\"\n      }\n    }\n  ]\n}"
            }
          },
          "metadata": {},
          "execution_count": 20
        }
      ]
    },
    {
      "cell_type": "code",
      "source": [
        "print(test_data_balanced[test_data_balanced['label']==1].iloc[0]['text'])"
      ],
      "metadata": {
        "colab": {
          "base_uri": "https://localhost:8080/"
        },
        "id": "E_eCWLTNDGyU",
        "outputId": "b05514cc-8385-4b11-8720-17fecf3a69a6"
      },
      "execution_count": null,
      "outputs": [
        {
          "output_type": "stream",
          "name": "stdout",
          "text": [
            "The Alberta province health minister wants to know if swine flu shots were 'inappropriately diverted' to the Calgary Flames while thousands had to stand in line for hours for the vaccine. Alberta Health Minister Ron Liepert says he doesn't know where the NHL team got the vaccine, adding that Alberta Health Services is the only supplier in the province. Team president Ken King says the club contacted the department and asked for the clinic. Health officials have begun an investigation into the special clinic, which was held for the players and their families last Friday. Liepert says the vaccine would be diverted only with the approval of the chief medical officer of health, but he doesn't know if that was the case. Alberta's opposition parties say professional ice hockey players shouldn't be getting the vaccine ahead of cancer patients and pregnant women. \n"
          ]
        }
      ]
    },
    {
      "cell_type": "markdown",
      "source": [
        "# Simple RNN"
      ],
      "metadata": {
        "id": "b_3DNZvbcMU8"
      }
    },
    {
      "cell_type": "code",
      "source": [
        "from tensorflow.keras.preprocessing.text import Tokenizer\n",
        "from tensorflow.keras.preprocessing.sequence import pad_sequences\n",
        "\n",
        "def adhoc_test_x(input_string, tokenizer):\n",
        "  input_df = pd.DataFrame([input_string], columns=['text'])\n",
        "  input_df['text'] = input_df['text'].apply(remove_stopwords)\n",
        "  adhoc_test_sequences = tokenizer.texts_to_sequences(input_df['text'])\n",
        "  adhoc_x_test = pad_sequences(adhoc_test_sequences, maxlen=100)\n",
        "  return adhoc_x_test"
      ],
      "metadata": {
        "id": "ioPaV2bMB6Hi"
      },
      "execution_count": null,
      "outputs": []
    },
    {
      "cell_type": "code",
      "source": [
        "import pandas as pd\n",
        "import numpy as np\n",
        "from tensorflow.keras.preprocessing.text import Tokenizer\n",
        "from tensorflow.keras.preprocessing.sequence import pad_sequences\n",
        "from tensorflow.keras.models import Sequential\n",
        "from tensorflow.keras.layers import Embedding, SimpleRNN, Dense\n",
        "from tensorflow.keras.optimizers import Adam\n",
        "from sklearn.metrics import accuracy_score, precision_score, recall_score, f1_score, confusion_matrix, roc_curve, auc\n",
        "import matplotlib.pyplot as plt\n",
        "import seaborn as sns\n",
        "\n",
        "train_data = train_data_balanced.copy()\n",
        "train_data.columns=['label','text']\n",
        "test_data = test_data_balanced.copy()\n",
        "\n",
        "train_data['text'] = train_data['text'].apply(remove_stopwords)\n",
        "test_data['text'] = test_data['text'].apply(remove_stopwords)\n",
        "\n",
        "#limit set to not run out of ram\n",
        "tokenizer = Tokenizer(num_words=10000)\n",
        "tokenizer.fit_on_texts(train_data['text'])\n",
        "train_sequences = tokenizer.texts_to_sequences(train_data['text'])\n",
        "test_sequences = tokenizer.texts_to_sequences(test_data['text'])\n",
        "\n",
        "X_train = pad_sequences(train_sequences, maxlen=100)\n",
        "X_test = pad_sequences(test_sequences, maxlen=100)\n",
        "\n",
        "y_train = train_data['label'].values\n",
        "y_test = test_data['label'].values\n",
        "\n",
        "model = Sequential([\n",
        "    Embedding(input_dim=10000, output_dim=32, input_length=100),\n",
        "    SimpleRNN(32),\n",
        "    Dense(1, activation='sigmoid')\n",
        "])\n",
        "model.compile(optimizer=Adam(learning_rate=0.001), loss='binary_crossentropy', metrics=['accuracy'])\n",
        "\n",
        "model.fit(X_train, y_train, batch_size=128, epochs=5, validation_split=0.2)\n",
        "predictions = (model.predict(X_test) > 0.5).astype(\"int32\").flatten()\n",
        "\n",
        "accuracy = accuracy_score(y_test, predictions)\n",
        "precision = precision_score(y_test, predictions)\n",
        "recall = recall_score(y_test, predictions)\n",
        "f1 = f1_score(y_test, predictions)\n",
        "cm = confusion_matrix(y_test, predictions)\n",
        "\n",
        "plt.figure(figsize=(4, 3))\n",
        "sns.heatmap(cm, annot=True, fmt='g', cmap='Blues', cbar=False)\n",
        "plt.xlabel('Predicted')\n",
        "plt.ylabel('True')\n",
        "plt.title('Confusion Matrix')\n",
        "plt.xticks(ticks=[0.5, 1.5], labels=['Negative', 'Positive'])\n",
        "plt.yticks(ticks=[0.5, 1.5], labels=['Negative', 'Positive'], rotation=0)\n",
        "plt.show()\n",
        "\n",
        "y_probs = model.predict(X_test).ravel()\n",
        "fpr, tpr, thresholds = roc_curve(y_test, y_probs)\n",
        "roc_auc = auc(fpr, tpr)\n",
        "\n",
        "plt.figure()\n",
        "plt.plot(fpr, tpr, label='ROC curve (AUC = %0.2f)' % roc_auc)\n",
        "plt.plot([0, 1], [0, 1], 'k--')\n",
        "plt.xlim([0.0, 1.0])\n",
        "plt.ylim([0.0, 1.05])\n",
        "plt.xlabel('False Positive Rate')\n",
        "plt.ylabel('True Positive Rate')\n",
        "plt.title('ROC')\n",
        "plt.legend(loc=\"lower right\")\n",
        "plt.show()\n",
        "\n",
        "print(f\"Accuracy: {accuracy:.4f}, Precision: {precision:.4f}, Recall: {recall:.4f}, F1: {f1:.4f}, AUC: {roc_auc:.4f}\")\n"
      ],
      "metadata": {
        "colab": {
          "base_uri": "https://localhost:8080/",
          "height": 1000
        },
        "id": "7orx70yhhMpJ",
        "outputId": "7ecfb933-7cf4-40b3-acd9-1789c31ad72b"
      },
      "execution_count": null,
      "outputs": [
        {
          "output_type": "stream",
          "name": "stdout",
          "text": [
            "Epoch 1/5\n",
            "125/125 [==============================] - 24s 181ms/step - loss: 0.5877 - accuracy: 0.6967 - val_loss: 0.4382 - val_accuracy: 0.8217\n",
            "Epoch 2/5\n",
            "125/125 [==============================] - 18s 145ms/step - loss: 0.2364 - accuracy: 0.9179 - val_loss: 0.3325 - val_accuracy: 0.8702\n",
            "Epoch 3/5\n",
            "125/125 [==============================] - 15s 124ms/step - loss: 0.1002 - accuracy: 0.9682 - val_loss: 0.2760 - val_accuracy: 0.8852\n",
            "Epoch 4/5\n",
            "125/125 [==============================] - 16s 128ms/step - loss: 0.0481 - accuracy: 0.9870 - val_loss: 0.2525 - val_accuracy: 0.9222\n",
            "Epoch 5/5\n",
            "125/125 [==============================] - 14s 109ms/step - loss: 0.0234 - accuracy: 0.9947 - val_loss: 0.4541 - val_accuracy: 0.8789\n",
            "47/47 [==============================] - 1s 9ms/step\n"
          ]
        },
        {
          "output_type": "display_data",
          "data": {
            "text/plain": [
              "<Figure size 400x300 with 1 Axes>"
            ],
            "image/png": "[encoded data removed]"
          },
          "metadata": {}
        },
        {
          "output_type": "stream",
          "name": "stdout",
          "text": [
            "47/47 [==============================] - 0s 9ms/step\n"
          ]
        },
        {
          "output_type": "display_data",
          "data": {
            "text/plain": [
              "<Figure size 640x480 with 1 Axes>"
            ],
            "image/png": "[encoded data removed]"
          },
          "metadata": {}
        },
        {
          "output_type": "stream",
          "name": "stdout",
          "text": [
            "Accuracy: 0.8853, Precision: 0.9059, Recall: 0.8600, F1: 0.8824, AUC: 0.9374\n"
          ]
        }
      ]
    },
    {
      "cell_type": "code",
      "source": [
        "### SAVE\n",
        "import pickle\n",
        "\n",
        "with open('news_tokenizer.pickle', 'wb') as handle:\n",
        "    pickle.dump(tokenizer, handle, protocol=pickle.HIGHEST_PROTOCOL)\n",
        "\n",
        "model.save('simple_rnn_news')\n",
        "\n",
        "### LOAD\n",
        "from tensorflow.keras.models import load_model\n",
        "\n",
        "with open('news_tokenizer.pickle', 'rb') as handle:\n",
        "    loaded_tokenizer = pickle.load(handle)\n",
        "\n",
        "loaded_model = load_model('simple_rnn_news')"
      ],
      "metadata": {
        "id": "0HrvbOxbA4bm"
      },
      "execution_count": null,
      "outputs": []
    },
    {
      "cell_type": "code",
      "source": [
        "!zip -r /content/simple_rnn_news.zip /content/simple_rnn_news"
      ],
      "metadata": {
        "colab": {
          "base_uri": "https://localhost:8080/"
        },
        "id": "UVp2QxdZMswA",
        "outputId": "592df36a-e6d6-48a0-a433-a45ba70fba55"
      },
      "execution_count": null,
      "outputs": [
        {
          "output_type": "stream",
          "name": "stdout",
          "text": [
            "  adding: content/simple_rnn_news/ (stored 0%)\n",
            "  adding: content/simple_rnn_news/saved_model.pb (deflated 89%)\n",
            "  adding: content/simple_rnn_news/assets/ (stored 0%)\n",
            "  adding: content/simple_rnn_news/variables/ (stored 0%)\n",
            "  adding: content/simple_rnn_news/variables/variables.index (deflated 60%)\n",
            "  adding: content/simple_rnn_news/variables/variables.data-00000-of-00001 (deflated 7%)\n",
            "  adding: content/simple_rnn_news/fingerprint.pb (stored 0%)\n",
            "  adding: content/simple_rnn_news/keras_metadata.pb (deflated 86%)\n"
          ]
        }
      ]
    },
    {
      "cell_type": "code",
      "source": [
        "# Test random string for Simple RNN\n",
        "\n",
        "test_string_satire = '''\n",
        "When so many actors seem content to churn out performances for a quick paycheck, a performer who adheres to his principles really stands out. Thats why Jeff Bridges made waves this week when he announced that from now on, he will only perform nude scenes. In an interview in this months GQ, the Big Lebowski star made it clear that he was more than ready to move on to a new phase in his career, leaving his clothed roles in the past. Ive been there and Ive done that, said Bridges, rattling off a laundry list of the films hes appeared in covered up. Now, I can finally afford to only take on roles that excite me. Right now, those are roles with nude scenes. Why waste my time with anything else? Powerful. Though he made it clear that he doesnt regret his previous non-nude roles, Jeff admitted that hed always struggled with pressure from directors and studios to stay clothed on camera. No more towels; no more bathrobes; no more carefully placed plants, he added. Even if my character isnt written as nude, any director I work with will have to figure out how to make him that way. Itll be a challenge for both of us, and one I cant wait to tackle. For their part, Jeffs fans have been nothing but supportive. Wow! Whether or not you agree with him, youve got to have respect for a Hollywood star with that much conviction. You keep doing you, Jeff!\n",
        "'''\n",
        "\n",
        "test_string_reliable = '''\n",
        "The Alberta province health minister wants to know if swine flu shots were 'inappropriately diverted' to the Calgary Flames while thousands had to stand in line for hours for the vaccine. Alberta Health Minister Ron Liepert says he doesn't know where the NHL team got the vaccine, adding that Alberta Health Services is the only supplier in the province. Team president Ken King says the club contacted the department and asked for the clinic. Health officials have begun an investigation into the special clinic, which was held for the players and their families last Friday. Liepert says the vaccine would be diverted only with the approval of the chief medical officer of health, but he doesn't know if that was the case. Alberta's opposition parties say professional ice hockey players shouldn't be getting the vaccine ahead of cancer patients and pregnant women.\n",
        "'''\n",
        "\n",
        "print(\"Satire\")\n",
        "satire_input_x = adhoc_test_x(test_string_satire, loaded_tokenizer)\n",
        "print(loaded_model.predict(satire_input_x).ravel())\n",
        "\n",
        "print(\"Reliable\")\n",
        "reliable_input_x = adhoc_test_x(test_string_reliable, loaded_tokenizer)\n",
        "print(loaded_model.predict(reliable_input_x).ravel())"
      ],
      "metadata": {
        "colab": {
          "base_uri": "https://localhost:8080/"
        },
        "id": "ri_IVU9lC5Qq",
        "outputId": "95e8f1d0-296a-4bec-d610-921e0d94a27b"
      },
      "execution_count": null,
      "outputs": [
        {
          "output_type": "stream",
          "name": "stdout",
          "text": [
            "Satire\n",
            "1/1 [==============================] - 0s 130ms/step\n",
            "[0.00416236]\n",
            "Reliable\n",
            "1/1 [==============================] - 0s 22ms/step\n",
            "[0.9968257]\n"
          ]
        }
      ]
    },
    {
      "cell_type": "markdown",
      "source": [
        "# LSTM"
      ],
      "metadata": {
        "id": "kcbPZxVvnHOK"
      }
    },
    {
      "cell_type": "code",
      "source": [
        "import pandas as pd\n",
        "import numpy as np\n",
        "from tensorflow.keras.preprocessing.text import Tokenizer\n",
        "from tensorflow.keras.preprocessing.sequence import pad_sequences\n",
        "from tensorflow.keras.models import Sequential\n",
        "from tensorflow.keras.layers import Embedding, LSTM, Dense\n",
        "from tensorflow.keras.optimizers import Adam\n",
        "from sklearn.metrics import accuracy_score, precision_score, recall_score, f1_score, confusion_matrix, roc_curve, auc\n",
        "import matplotlib.pyplot as plt\n",
        "import seaborn as sns\n",
        "\n",
        "train_data = train_data_balanced.copy()\n",
        "test_data = test_data_balanced.copy()\n",
        "\n",
        "train_data['text'] = train_data['text'].apply(remove_stopwords)\n",
        "test_data['text'] = test_data['text'].apply(remove_stopwords)\n",
        "\n",
        "# tokenizer = Tokenizer(num_words=10000)\n",
        "# tokenizer.fit_on_texts(train_data['text'])\n",
        "tokenizer = loaded_tokenizer\n",
        "train_sequences = tokenizer.texts_to_sequences(train_data['text'])\n",
        "test_sequences = tokenizer.texts_to_sequences(test_data['text'])\n",
        "\n",
        "X_train = pad_sequences(train_sequences, maxlen=100)\n",
        "X_test = pad_sequences(test_sequences, maxlen=100)\n",
        "\n",
        "y_train = train_data['label'].values\n",
        "y_test = test_data['label'].values\n",
        "\n",
        "model = Sequential([\n",
        "    Embedding(input_dim=10000, output_dim=32, input_length=100),\n",
        "    LSTM(32),\n",
        "    Dense(1, activation='sigmoid')\n",
        "])\n",
        "model.compile(optimizer=Adam(learning_rate=0.001), loss='binary_crossentropy', metrics=['accuracy'])\n",
        "\n",
        "model.fit(X_train, y_train, batch_size=128, epochs=5, validation_split=0.2)\n",
        "predictions = (model.predict(X_test) > 0.5).astype(\"int32\").flatten()\n",
        "\n",
        "accuracy = accuracy_score(y_test, predictions)\n",
        "precision = precision_score(y_test, predictions)\n",
        "recall = recall_score(y_test, predictions)\n",
        "f1 = f1_score(y_test, predictions)\n",
        "\n",
        "cm = confusion_matrix(y_test, predictions)\n",
        "\n",
        "plt.figure(figsize=(4, 3))\n",
        "sns.heatmap(cm, annot=True, fmt='g', cmap='Blues', cbar=False)\n",
        "plt.xlabel('Predicted')\n",
        "plt.ylabel('True')\n",
        "plt.title('Confusion Matrix')\n",
        "plt.xticks(ticks=[0.5, 1.5], labels=['Negative', 'Positive'])\n",
        "plt.yticks(ticks=[0.5, 1.5], labels=['Negative', 'Positive'], rotation=0)\n",
        "plt.show()\n",
        "\n",
        "y_probs = model.predict(X_test).ravel()\n",
        "fpr, tpr, thresholds = roc_curve(y_test, y_probs)\n",
        "roc_auc = auc(fpr, tpr)\n",
        "\n",
        "plt.figure()\n",
        "plt.plot(fpr, tpr, label='ROC curve (AUC = %0.2f)' % roc_auc)\n",
        "plt.plot([0, 1], [0, 1], 'k--')\n",
        "plt.xlim([0.0, 1.0])\n",
        "plt.ylim([0.0, 1.05])\n",
        "plt.xlabel('False Positive Rate')\n",
        "plt.ylabel('True Positive Rate')\n",
        "plt.title('ROC')\n",
        "plt.legend(loc=\"lower right\")\n",
        "plt.show()\n",
        "print(f\"Accuracy: {accuracy:.4f}, Precision: {precision:.4f}, Recall: {recall:.4f}, F1: {f1:.4f}, AUC: {roc_auc:.4f}\")"
      ],
      "metadata": {
        "colab": {
          "base_uri": "https://localhost:8080/",
          "height": 1000
        },
        "id": "_edzaViBjYDm",
        "outputId": "b310d5e0-e9cd-415b-8e84-c2883f6c66f5"
      },
      "execution_count": null,
      "outputs": [
        {
          "output_type": "stream",
          "name": "stdout",
          "text": [
            "Epoch 1/5\n",
            "125/125 [==============================] - 14s 98ms/step - loss: 0.4251 - accuracy: 0.7990 - val_loss: 0.2726 - val_accuracy: 0.8952\n",
            "Epoch 2/5\n",
            "125/125 [==============================] - 8s 67ms/step - loss: 0.1244 - accuracy: 0.9602 - val_loss: 0.1895 - val_accuracy: 0.9302\n",
            "Epoch 3/5\n",
            "125/125 [==============================] - 5s 37ms/step - loss: 0.0577 - accuracy: 0.9837 - val_loss: 0.1938 - val_accuracy: 0.9342\n",
            "Epoch 4/5\n",
            "125/125 [==============================] - 3s 28ms/step - loss: 0.0267 - accuracy: 0.9937 - val_loss: 0.2666 - val_accuracy: 0.9122\n",
            "Epoch 5/5\n",
            "125/125 [==============================] - 4s 35ms/step - loss: 0.0162 - accuracy: 0.9966 - val_loss: 0.4045 - val_accuracy: 0.9102\n",
            "47/47 [==============================] - 0s 3ms/step\n"
          ]
        },
        {
          "output_type": "display_data",
          "data": {
            "text/plain": [
              "<Figure size 400x300 with 1 Axes>"
            ],
            "image/png": "[encoded data removed]"
          },
          "metadata": {}
        },
        {
          "output_type": "stream",
          "name": "stdout",
          "text": [
            "47/47 [==============================] - 0s 3ms/step\n"
          ]
        },
        {
          "output_type": "display_data",
          "data": {
            "text/plain": [
              "<Figure size 640x480 with 1 Axes>"
            ],
            "image/png": "[encoded data removed]"
          },
          "metadata": {}
        },
        {
          "output_type": "stream",
          "name": "stdout",
          "text": [
            "Accuracy: 0.9120, Precision: 0.9233, Recall: 0.8987, F1: 0.9108, AUC: 0.9721\n"
          ]
        }
      ]
    },
    {
      "cell_type": "code",
      "source": [
        "### SAVE\n",
        "model.save('lstm_news')\n",
        "\n",
        "### LOAD\n",
        "from tensorflow.keras.models import load_model\n",
        "\n",
        "lstm_model = load_model('lstm_news')"
      ],
      "metadata": {
        "id": "fKy5A1YsNiYd"
      },
      "execution_count": null,
      "outputs": []
    },
    {
      "cell_type": "code",
      "source": [
        "# Test random string for Simple RNN\n",
        "\n",
        "test_string_satire = '''\n",
        "When so many actors seem content to churn out performances for a quick paycheck, a performer who adheres to his principles really stands out. Thats why Jeff Bridges made waves this week when he announced that from now on, he will only perform nude scenes. In an interview in this months GQ, the Big Lebowski star made it clear that he was more than ready to move on to a new phase in his career, leaving his clothed roles in the past. Ive been there and Ive done that, said Bridges, rattling off a laundry list of the films hes appeared in covered up. Now, I can finally afford to only take on roles that excite me. Right now, those are roles with nude scenes. Why waste my time with anything else? Powerful. Though he made it clear that he doesnt regret his previous non-nude roles, Jeff admitted that hed always struggled with pressure from directors and studios to stay clothed on camera. No more towels; no more bathrobes; no more carefully placed plants, he added. Even if my character isnt written as nude, any director I work with will have to figure out how to make him that way. Itll be a challenge for both of us, and one I cant wait to tackle. For their part, Jeffs fans have been nothing but supportive. Wow! Whether or not you agree with him, youve got to have respect for a Hollywood star with that much conviction. You keep doing you, Jeff!\n",
        "'''\n",
        "\n",
        "test_string_reliable = '''\n",
        "The Alberta province health minister wants to know if swine flu shots were 'inappropriately diverted' to the Calgary Flames while thousands had to stand in line for hours for the vaccine. Alberta Health Minister Ron Liepert says he doesn't know where the NHL team got the vaccine, adding that Alberta Health Services is the only supplier in the province. Team president Ken King says the club contacted the department and asked for the clinic. Health officials have begun an investigation into the special clinic, which was held for the players and their families last Friday. Liepert says the vaccine would be diverted only with the approval of the chief medical officer of health, but he doesn't know if that was the case. Alberta's opposition parties say professional ice hockey players shouldn't be getting the vaccine ahead of cancer patients and pregnant women.\n",
        "'''\n",
        "\n",
        "print(\"Satire\")\n",
        "satire_input_x = adhoc_test_x(test_string_satire, loaded_tokenizer)\n",
        "print(lstm_model.predict(satire_input_x).ravel())\n",
        "\n",
        "print(\"Reliable\")\n",
        "reliable_input_x = adhoc_test_x(test_string_reliable, loaded_tokenizer)\n",
        "print(lstm_model.predict(reliable_input_x).ravel())"
      ],
      "metadata": {
        "colab": {
          "base_uri": "https://localhost:8080/"
        },
        "id": "dwPSTVXpNp7h",
        "outputId": "c56a99fb-8758-4794-fae5-de5aa6cb560a"
      },
      "execution_count": null,
      "outputs": [
        {
          "output_type": "stream",
          "name": "stdout",
          "text": [
            "Satire\n",
            "1/1 [==============================] - 0s 374ms/step\n",
            "[0.00085022]\n",
            "Reliable\n",
            "1/1 [==============================] - 0s 19ms/step\n",
            "[0.9985056]\n"
          ]
        }
      ]
    },
    {
      "cell_type": "code",
      "source": [
        "!zip -r /content/lstm_news.zip /content/lstm_news"
      ],
      "metadata": {
        "colab": {
          "base_uri": "https://localhost:8080/"
        },
        "id": "QkGMPkw0NxVM",
        "outputId": "4f94e2c7-17f2-4b2a-d682-68a4cb4ed986"
      },
      "execution_count": null,
      "outputs": [
        {
          "output_type": "stream",
          "name": "stdout",
          "text": [
            "  adding: content/lstm_news/ (stored 0%)\n",
            "  adding: content/lstm_news/saved_model.pb (deflated 90%)\n",
            "  adding: content/lstm_news/assets/ (stored 0%)\n",
            "  adding: content/lstm_news/variables/ (stored 0%)\n",
            "  adding: content/lstm_news/variables/variables.index (deflated 60%)\n",
            "  adding: content/lstm_news/variables/variables.data-00000-of-00001 (deflated 7%)\n",
            "  adding: content/lstm_news/fingerprint.pb (stored 0%)\n",
            "  adding: content/lstm_news/keras_metadata.pb (deflated 86%)\n"
          ]
        }
      ]
    },
    {
      "cell_type": "markdown",
      "source": [
        "## BiLSTM + CNN"
      ],
      "metadata": {
        "id": "5qj0WYdsn2yk"
      }
    },
    {
      "cell_type": "code",
      "source": [
        "import pandas as pd\n",
        "import numpy as np\n",
        "from tensorflow.keras.preprocessing.text import Tokenizer\n",
        "from tensorflow.keras.preprocessing.sequence import pad_sequences\n",
        "from tensorflow.keras.models import Sequential\n",
        "from tensorflow.keras.layers import Embedding, SpatialDropout1D, Conv1D, GlobalMaxPooling1D, Bidirectional, LSTM, Dense\n",
        "from tensorflow.keras.optimizers import Adam\n",
        "from sklearn.metrics import accuracy_score, precision_score, recall_score, f1_score, confusion_matrix, roc_curve, auc\n",
        "import matplotlib.pyplot as plt\n",
        "import seaborn as sns\n",
        "\n",
        "train_data = train_data_balanced.copy()\n",
        "test_data = test_data_balanced.copy()\n",
        "\n",
        "train_data['text'] = train_data['text'].apply(remove_stopwords)\n",
        "test_data['text'] = test_data['text'].apply(remove_stopwords)\n",
        "\n",
        "# tokenizer = Tokenizer(num_words=10000)\n",
        "# tokenizer.fit_on_texts(train_data['text'])\n",
        "tokenizer = loaded_tokenizer\n",
        "train_sequences = tokenizer.texts_to_sequences(train_data['text'])\n",
        "test_sequences = tokenizer.texts_to_sequences(test_data['text'])\n",
        "\n",
        "X_train = pad_sequences(train_sequences, maxlen=100)\n",
        "X_test = pad_sequences(test_sequences, maxlen=100)\n",
        "\n",
        "y_train = train_data['label'].values\n",
        "y_test = test_data['label'].values\n",
        "\n",
        "model = Sequential([\n",
        "    Embedding(input_dim=10000, output_dim=32, input_length=100),\n",
        "    SpatialDropout1D(0.2),\n",
        "    Conv1D(filters=32, kernel_size=3, padding='same', activation='relu'),\n",
        "    Bidirectional(LSTM(32)),\n",
        "    Dense(1, activation='sigmoid')\n",
        "])\n",
        "model.compile(optimizer=Adam(learning_rate=0.001), loss='binary_crossentropy', metrics=['accuracy'])\n",
        "\n",
        "model.fit(X_train, y_train, batch_size=128, epochs=5, validation_split=0.2)\n",
        "predictions = (model.predict(X_test) > 0.5).astype(\"int32\").flatten()\n",
        "\n",
        "accuracy = accuracy_score(y_test, predictions)\n",
        "precision = precision_score(y_test, predictions)\n",
        "recall = recall_score(y_test, predictions)\n",
        "f1 = f1_score(y_test, predictions)\n",
        "cm = confusion_matrix(y_test, predictions)\n",
        "\n",
        "plt.figure(figsize=(4, 3))\n",
        "sns.heatmap(cm, annot=True, fmt='g', cmap='Blues', cbar=False)\n",
        "plt.xlabel('Predicted')\n",
        "plt.ylabel('True')\n",
        "plt.title('Confusion Matrix')\n",
        "plt.xticks(ticks=[0.5, 1.5], labels=['Negative', 'Positive'])\n",
        "plt.yticks(ticks=[0.5, 1.5], labels=['Negative', 'Positive'], rotation=0)\n",
        "plt.show()\n",
        "\n",
        "y_probs = model.predict(X_test).ravel()\n",
        "fpr, tpr, thresholds = roc_curve(y_test, y_probs)\n",
        "roc_auc = auc(fpr, tpr)\n",
        "\n",
        "plt.figure()\n",
        "plt.plot(fpr, tpr, label='ROC curve (AUC = %0.8f)' % roc_auc)\n",
        "plt.plot([0, 1], [0, 1], 'k--')\n",
        "plt.xlim([0.0, 1.0])\n",
        "plt.ylim([0.0, 1.05])\n",
        "plt.xlabel('False Positive Rate')\n",
        "plt.ylabel('True Positive Rate')\n",
        "plt.title('ROC')\n",
        "plt.legend(loc=\"lower right\")\n",
        "plt.show()\n",
        "print(f\"Accuracy: {accuracy:.4f}, Precision: {precision:.4f}, Recall: {recall:.4f}, F1: {f1:.4f}, AUC: {roc_auc:.4f}\")"
      ],
      "metadata": {
        "colab": {
          "base_uri": "https://localhost:8080/",
          "height": 1000
        },
        "id": "oIOqkqKNjecd",
        "outputId": "660c45b8-f62e-46dc-9fe6-b5fab6bd1f36"
      },
      "execution_count": null,
      "outputs": [
        {
          "output_type": "stream",
          "name": "stdout",
          "text": [
            "Epoch 1/5\n",
            "125/125 [==============================] - 20s 103ms/step - loss: 0.4462 - accuracy: 0.7805 - val_loss: 0.3751 - val_accuracy: 0.8414\n",
            "Epoch 2/5\n",
            "125/125 [==============================] - 9s 72ms/step - loss: 0.1408 - accuracy: 0.9503 - val_loss: 0.2933 - val_accuracy: 0.8814\n",
            "Epoch 3/5\n",
            "125/125 [==============================] - 7s 58ms/step - loss: 0.0584 - accuracy: 0.9825 - val_loss: 0.2180 - val_accuracy: 0.9117\n",
            "Epoch 4/5\n",
            "125/125 [==============================] - 5s 44ms/step - loss: 0.0280 - accuracy: 0.9916 - val_loss: 0.2668 - val_accuracy: 0.9107\n",
            "Epoch 5/5\n",
            "125/125 [==============================] - 4s 30ms/step - loss: 0.0148 - accuracy: 0.9964 - val_loss: 0.2968 - val_accuracy: 0.9202\n",
            "47/47 [==============================] - 1s 5ms/step\n"
          ]
        },
        {
          "output_type": "display_data",
          "data": {
            "text/plain": [
              "<Figure size 400x300 with 1 Axes>"
            ],
            "image/png": "[encoded data removed]"
          },
          "metadata": {}
        },
        {
          "output_type": "stream",
          "name": "stdout",
          "text": [
            "47/47 [==============================] - 0s 4ms/step\n"
          ]
        },
        {
          "output_type": "display_data",
          "data": {
            "text/plain": [
              "<Figure size 640x480 with 1 Axes>"
            ],
            "image/png": "[encoded data removed]"
          },
          "metadata": {}
        },
        {
          "output_type": "stream",
          "name": "stdout",
          "text": [
            "Accuracy: 0.9000, Precision: 0.8989, Recall: 0.9013, F1: 0.9001, AUC: 0.9638\n"
          ]
        }
      ]
    },
    {
      "cell_type": "code",
      "source": [
        "### SAVE\n",
        "model.save('bilstm_cnn_news')\n",
        "\n",
        "### LOAD\n",
        "from tensorflow.keras.models import load_model\n",
        "\n",
        "bilstm_cnn_model = load_model('bilstm_cnn_news')"
      ],
      "metadata": {
        "id": "whIJZkh8Q2tB"
      },
      "execution_count": null,
      "outputs": []
    },
    {
      "cell_type": "code",
      "source": [
        "# Test random string for Simple RNN\n",
        "\n",
        "test_string_satire = '''\n",
        "When so many actors seem content to churn out performances for a quick paycheck, a performer who adheres to his principles really stands out. Thats why Jeff Bridges made waves this week when he announced that from now on, he will only perform nude scenes. In an interview in this months GQ, the Big Lebowski star made it clear that he was more than ready to move on to a new phase in his career, leaving his clothed roles in the past. Ive been there and Ive done that, said Bridges, rattling off a laundry list of the films hes appeared in covered up. Now, I can finally afford to only take on roles that excite me. Right now, those are roles with nude scenes. Why waste my time with anything else? Powerful. Though he made it clear that he doesnt regret his previous non-nude roles, Jeff admitted that hed always struggled with pressure from directors and studios to stay clothed on camera. No more towels; no more bathrobes; no more carefully placed plants, he added. Even if my character isnt written as nude, any director I work with will have to figure out how to make him that way. Itll be a challenge for both of us, and one I cant wait to tackle. For their part, Jeffs fans have been nothing but supportive. Wow! Whether or not you agree with him, youve got to have respect for a Hollywood star with that much conviction. You keep doing you, Jeff!\n",
        "'''\n",
        "\n",
        "test_string_reliable = '''\n",
        "The Alberta province health minister wants to know if swine flu shots were 'inappropriately diverted' to the Calgary Flames while thousands had to stand in line for hours for the vaccine. Alberta Health Minister Ron Liepert says he doesn't know where the NHL team got the vaccine, adding that Alberta Health Services is the only supplier in the province. Team president Ken King says the club contacted the department and asked for the clinic. Health officials have begun an investigation into the special clinic, which was held for the players and their families last Friday. Liepert says the vaccine would be diverted only with the approval of the chief medical officer of health, but he doesn't know if that was the case. Alberta's opposition parties say professional ice hockey players shouldn't be getting the vaccine ahead of cancer patients and pregnant women.\n",
        "'''\n",
        "\n",
        "print(\"Satire\")\n",
        "satire_input_x = adhoc_test_x(test_string_satire, loaded_tokenizer)\n",
        "print(bilstm_cnn_model.predict(satire_input_x).ravel())\n",
        "\n",
        "print(\"Reliable\")\n",
        "reliable_input_x = adhoc_test_x(test_string_reliable, loaded_tokenizer)\n",
        "print(bilstm_cnn_model.predict(reliable_input_x).ravel())"
      ],
      "metadata": {
        "id": "9OCWNfaPpuzf",
        "colab": {
          "base_uri": "https://localhost:8080/"
        },
        "outputId": "d757aab3-cea4-4aa3-a3b2-21f9c25578bf"
      },
      "execution_count": null,
      "outputs": [
        {
          "output_type": "stream",
          "name": "stdout",
          "text": [
            "Satire\n",
            "1/1 [==============================] - 1s 778ms/step\n",
            "[0.00159107]\n",
            "Reliable\n",
            "1/1 [==============================] - 0s 20ms/step\n",
            "[0.9992136]\n"
          ]
        }
      ]
    },
    {
      "cell_type": "code",
      "source": [
        "!zip -r /content/bilstm_cnn_news.zip /content/bilstm_cnn_news"
      ],
      "metadata": {
        "colab": {
          "base_uri": "https://localhost:8080/"
        },
        "id": "7Cq-sY3GQ-MC",
        "outputId": "fdeb7caf-4a9e-4498-d4e2-5ec7e0976ff8"
      },
      "execution_count": null,
      "outputs": [
        {
          "output_type": "stream",
          "name": "stdout",
          "text": [
            "  adding: content/bilstm_cnn_news/ (stored 0%)\n",
            "  adding: content/bilstm_cnn_news/saved_model.pb (deflated 91%)\n",
            "  adding: content/bilstm_cnn_news/assets/ (stored 0%)\n",
            "  adding: content/bilstm_cnn_news/variables/ (stored 0%)\n",
            "  adding: content/bilstm_cnn_news/variables/variables.index (deflated 64%)\n",
            "  adding: content/bilstm_cnn_news/variables/variables.data-00000-of-00001 (deflated 7%)\n",
            "  adding: content/bilstm_cnn_news/fingerprint.pb (stored 0%)\n",
            "  adding: content/bilstm_cnn_news/keras_metadata.pb (deflated 90%)\n"
          ]
        }
      ]
    },
    {
      "cell_type": "code",
      "source": [],
      "metadata": {
        "id": "OmNhnqvGRCt_"
      },
      "execution_count": null,
      "outputs": []
    }
  ]
}